{
 "cells": [
  {
   "cell_type": "code",
   "execution_count": 6,
   "metadata": {},
   "outputs": [],
   "source": [
    "import numpy as np \n",
    "import numpy_financial as npf"
   ]
  },
  {
   "cell_type": "code",
   "execution_count": 7,
   "metadata": {},
   "outputs": [
    {
     "data": {
      "text/plain": [
       "77646.2052086053"
      ]
     },
     "execution_count": 7,
     "metadata": {},
     "output_type": "execute_result"
    }
   ],
   "source": [
    "# # Finding the future value of 2500 tl of money with 12 percent per yearly and 10-years maturity\n",
    "fv = npf.fv(0.12, 10, 0, -25000)\n",
    "fv"
   ]
  },
  {
   "cell_type": "code",
   "execution_count": 8,
   "metadata": {},
   "outputs": [
    {
     "data": {
      "text/plain": [
       "1754.7878400000004"
      ]
     },
     "execution_count": 8,
     "metadata": {},
     "output_type": "execute_result"
    }
   ],
   "source": [
    "# Finding the future value of 1500 tl of money with 4 percent per month and 4-month maturity\n",
    "fv = npf.fv(0.04, 4, 0, -1500)\n",
    "fv"
   ]
  },
  {
   "cell_type": "code",
   "execution_count": 10,
   "metadata": {},
   "outputs": [
    {
     "data": {
      "text/plain": [
       "113283.21111341812"
      ]
     },
     "execution_count": 10,
     "metadata": {},
     "output_type": "execute_result"
    }
   ],
   "source": [
    "# Calculating the future value of money invested for 30 years at 8% interest of 1000 tl per year\n",
    "fv = npf.fv(0.08, 30, -1000,0)\n",
    "fv"
   ]
  },
  {
   "cell_type": "code",
   "execution_count": 12,
   "metadata": {},
   "outputs": [
    {
     "data": {
      "text/plain": [
       "210648.14814814812"
      ]
     },
     "execution_count": 12,
     "metadata": {},
     "output_type": "execute_result"
    }
   ],
   "source": [
    "# Calculating the present value of a loan of 100000 TL invested at 20% interest for 3 years.\n",
    "pv = npf.pv(0.2, 3, -100000, 0)\n",
    "pv"
   ]
  },
  {
   "cell_type": "code",
   "execution_count": 14,
   "metadata": {},
   "outputs": [
    {
     "data": {
      "text/plain": [
       "345.96182294037317"
      ]
     },
     "execution_count": 14,
     "metadata": {},
     "output_type": "execute_result"
    }
   ],
   "source": [
    "# You save 400 tl in the first month, 500 tl in the second month and 600 tl in the third month from your salary \n",
    "# at 4 percent interest per month. calculate your savings at the end of the period\n",
    "cf = [100, 150, 125]\n",
    "cfv = []\n",
    "for i in range(len(cf)):\n",
    "    pv = cf[i] / (1+0.04)**(len(cf)-(i+1))\n",
    "    cfv.append(pv)\n",
    "sum(cfv)\n"
   ]
  },
  {
   "cell_type": "code",
   "execution_count": null,
   "metadata": {},
   "outputs": [],
   "source": [
    "\n",
    "cash_flow = [1400, 500, 600]\n",
    "cash_flow_value = []\n",
    "for i in range(len(cash_flow)):\n",
    "    fv = cash_flow[i]*(1+0.04)**(i+1)\n",
    "    cash_flow_value.append(pv)\n",
    "sum(cash_flow_value)"
   ]
  }
 ],
 "metadata": {
  "kernelspec": {
   "display_name": "base",
   "language": "python",
   "name": "python3"
  },
  "language_info": {
   "codemirror_mode": {
    "name": "ipython",
    "version": 3
   },
   "file_extension": ".py",
   "mimetype": "text/x-python",
   "name": "python",
   "nbconvert_exporter": "python",
   "pygments_lexer": "ipython3",
   "version": "3.11.7"
  }
 },
 "nbformat": 4,
 "nbformat_minor": 2
}
