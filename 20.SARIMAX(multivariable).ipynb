{
 "cells": [
  {
   "cell_type": "code",
   "execution_count": 1,
   "metadata": {},
   "outputs": [],
   "source": [
    "import pandas as pd\n",
    "import numpy as np\n",
    "import matplotlib.pyplot as plt\n",
    "import seaborn as sns\n",
    "from statsmodels.graphics.tsaplots import plot_acf, month_plot\n",
    "from arch.unitroot import ADF, KPSS\n",
    "from pmdarima import auto_arima\n",
    "import statsmodels.api as sm\n",
    "from statsmodels.stats.diagnostic import acorr_ljungbox\n",
    "from statsmodels.tsa.arima.model import ARIMA, ARIMAResults\n",
    "from statsmodels.tsa.holtwinters import Holt\n",
    "from scipy.stats.mstats import winsorize\n",
    "from sklearn.metrics import mean_squared_error, mean_absolute_error, r2_score\n",
    "from sklearn.model_selection import TimeSeriesSplit\n",
    "\n",
    "import evds as ev"
   ]
  },
  {
   "cell_type": "code",
   "execution_count": 3,
   "metadata": {},
   "outputs": [],
   "source": [
    "with open(\"/Users/neseuygun/Desktop/evds_api_key.txt\") as file:\n",
    "    api = file.read()\n",
    "\n",
    "evds = ev.evdsAPI(api)\n",
    "\n",
    "dolar = evds.get_data([\"TP.DK.USD.S.YTL\"], startdate=\"01-01-2010\", enddate=\"01-01-2024\", frequency=5) #5 ile aylık veri alıyoruz\n",
    "endeks = evds.get_data([\"TP.MK.F.BILESIK\"], startdate=\"01-01-2010\", enddate=\"01-01-2024\", frequency=5)\n",
    "tufe = evds.get_data([\"TP.FG.J0\"], startdate=\"01-01-2010\", enddate=\"01-01-2024\", frequency=5)"
   ]
  },
  {
   "cell_type": "code",
   "execution_count": 9,
   "metadata": {},
   "outputs": [
    {
     "name": "stdout",
     "output_type": "stream",
     "text": [
      "dolar: 169 endeks: 169 tufe: 168\n"
     ]
    }
   ],
   "source": [
    "print(f\"dolar: {len(dolar)} endeks: {len(endeks)} tufe: {len(tufe)}\")"
   ]
  },
  {
   "cell_type": "code",
   "execution_count": 10,
   "metadata": {},
   "outputs": [
    {
     "name": "stdout",
     "output_type": "stream",
     "text": [
      "dolar: 168 endeks: 168 tufe: 168\n"
     ]
    }
   ],
   "source": [
    "dolar = dolar[:-1]\n",
    "endeks = endeks[:-1]\n",
    "print(f\"dolar: {len(dolar)} endeks: {len(endeks)} tufe: {len(tufe)}\")"
   ]
  },
  {
   "cell_type": "code",
   "execution_count": 15,
   "metadata": {},
   "outputs": [
    {
     "name": "stdout",
     "output_type": "stream",
     "text": [
      "    Tarih  TP_DK_USD_S_YTL\n",
      "0  2010-1         1.473400\n",
      "1  2010-2         1.512830\n",
      "2  2010-3         1.535678\n",
      "3  2010-4         1.495048\n",
      "4  2010-5         1.542210\n",
      "    Tarih  TP_MK_F_BILESIK\n",
      "0  2010-1           540.28\n",
      "1  2010-2           493.84\n",
      "2  2010-3           569.89\n",
      "3  2010-4           587.63\n",
      "4  2010-5           540.34\n",
      "    Tarih  TP_FG_J0\n",
      "0  2010-1    174.07\n",
      "1  2010-2    176.59\n",
      "2  2010-3    177.62\n",
      "3  2010-4    178.68\n",
      "4  2010-5    178.04\n"
     ]
    }
   ],
   "source": [
    "for i in [dolar, endeks, tufe]:\n",
    "    print(i.head())\n"
   ]
  },
  {
   "cell_type": "code",
   "execution_count": 19,
   "metadata": {},
   "outputs": [],
   "source": [
    "dolar.rename(columns={dolar.columns[1]:\"Dolar/TL\"}, inplace=True)\n",
    "endeks.rename(columns={endeks.columns[1]:\"Bist100\"}, inplace=True)\n",
    "tufe.rename(columns={tufe.columns[1]:\"Tufe\"}, inplace=True)"
   ]
  },
  {
   "cell_type": "code",
   "execution_count": 20,
   "metadata": {},
   "outputs": [
    {
     "data": {
      "text/html": [
       "<div>\n",
       "<style scoped>\n",
       "    .dataframe tbody tr th:only-of-type {\n",
       "        vertical-align: middle;\n",
       "    }\n",
       "\n",
       "    .dataframe tbody tr th {\n",
       "        vertical-align: top;\n",
       "    }\n",
       "\n",
       "    .dataframe thead th {\n",
       "        text-align: right;\n",
       "    }\n",
       "</style>\n",
       "<table border=\"1\" class=\"dataframe\">\n",
       "  <thead>\n",
       "    <tr style=\"text-align: right;\">\n",
       "      <th></th>\n",
       "      <th>Tarih</th>\n",
       "      <th>Bist100</th>\n",
       "    </tr>\n",
       "  </thead>\n",
       "  <tbody>\n",
       "    <tr>\n",
       "      <th>0</th>\n",
       "      <td>2010-1</td>\n",
       "      <td>540.28</td>\n",
       "    </tr>\n",
       "    <tr>\n",
       "      <th>1</th>\n",
       "      <td>2010-2</td>\n",
       "      <td>493.84</td>\n",
       "    </tr>\n",
       "    <tr>\n",
       "      <th>2</th>\n",
       "      <td>2010-3</td>\n",
       "      <td>569.89</td>\n",
       "    </tr>\n",
       "    <tr>\n",
       "      <th>3</th>\n",
       "      <td>2010-4</td>\n",
       "      <td>587.63</td>\n",
       "    </tr>\n",
       "    <tr>\n",
       "      <th>4</th>\n",
       "      <td>2010-5</td>\n",
       "      <td>540.34</td>\n",
       "    </tr>\n",
       "    <tr>\n",
       "      <th>...</th>\n",
       "      <td>...</td>\n",
       "      <td>...</td>\n",
       "    </tr>\n",
       "    <tr>\n",
       "      <th>163</th>\n",
       "      <td>2023-8</td>\n",
       "      <td>7917.93</td>\n",
       "    </tr>\n",
       "    <tr>\n",
       "      <th>164</th>\n",
       "      <td>2023-9</td>\n",
       "      <td>8334.94</td>\n",
       "    </tr>\n",
       "    <tr>\n",
       "      <th>165</th>\n",
       "      <td>2023-10</td>\n",
       "      <td>7514.10</td>\n",
       "    </tr>\n",
       "    <tr>\n",
       "      <th>166</th>\n",
       "      <td>2023-11</td>\n",
       "      <td>7948.60</td>\n",
       "    </tr>\n",
       "    <tr>\n",
       "      <th>167</th>\n",
       "      <td>2023-12</td>\n",
       "      <td>7470.18</td>\n",
       "    </tr>\n",
       "  </tbody>\n",
       "</table>\n",
       "<p>168 rows × 2 columns</p>\n",
       "</div>"
      ],
      "text/plain": [
       "       Tarih  Bist100\n",
       "0     2010-1   540.28\n",
       "1     2010-2   493.84\n",
       "2     2010-3   569.89\n",
       "3     2010-4   587.63\n",
       "4     2010-5   540.34\n",
       "..       ...      ...\n",
       "163   2023-8  7917.93\n",
       "164   2023-9  8334.94\n",
       "165  2023-10  7514.10\n",
       "166  2023-11  7948.60\n",
       "167  2023-12  7470.18\n",
       "\n",
       "[168 rows x 2 columns]"
      ]
     },
     "execution_count": 20,
     "metadata": {},
     "output_type": "execute_result"
    }
   ],
   "source": [
    "endeks"
   ]
  },
  {
   "cell_type": "code",
   "execution_count": null,
   "metadata": {},
   "outputs": [],
   "source": []
  }
 ],
 "metadata": {
  "kernelspec": {
   "display_name": "base",
   "language": "python",
   "name": "python3"
  },
  "language_info": {
   "codemirror_mode": {
    "name": "ipython",
    "version": 3
   },
   "file_extension": ".py",
   "mimetype": "text/x-python",
   "name": "python",
   "nbconvert_exporter": "python",
   "pygments_lexer": "ipython3",
   "version": "3.11.7"
  }
 },
 "nbformat": 4,
 "nbformat_minor": 2
}
