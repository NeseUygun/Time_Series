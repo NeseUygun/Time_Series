{
 "cells": [
  {
   "cell_type": "code",
   "execution_count": 2,
   "metadata": {},
   "outputs": [],
   "source": [
    "import pandas as pd\n",
    "import numpy as np\n",
    "import matplotlib.pyplot as plt"
   ]
  },
  {
   "cell_type": "code",
   "execution_count": 3,
   "metadata": {},
   "outputs": [
    {
     "data": {
      "text/plain": [
       "([['Wayne'], ['68'], ['5']],\n",
       " [['Westchester'], ['86'], ['1']],\n",
       " [['Wyoming'], ['59'], ['2']],\n",
       " [['Yates'], ['55'], ['2']])"
      ]
     },
     "execution_count": 3,
     "metadata": {},
     "output_type": "execute_result"
    }
   ],
   "source": [
    "data = [['Albany'] , [75] , [0] ] , [['Allegany'] , ['83'] , ['2'] ] , [['Bronx'] , ['82'] ,\n",
    "['3'] ] , [['Broome'] , ['67'] , ['5'] ] , [['Cattaraugus'] , ['95'] , ['5'] ] , [['Cayuga']\n",
    ", ['80'] , ['4'] ] , [['Chautauqua'] , ['78'] , ['4'] ] , [['Chemung'] , ['91'] , ['3'] ] ,\n",
    "[['Chenango'] , ['92'] , ['0'] ] , [['Clinton'] , ['58'] , ['1'] ] , [['Columbia'] , ['52']\n",
    ", ['1'] ] , [['Cortland'] , ['59'] , ['3'] ] , [['Delaware'] , ['70'] , ['0'] ] , [['Dutchess']\n",
    ", ['98'] , ['0'] ] , [['Erie'] , ['54'] , ['5'] ] , [['Essex'] , ['83'] , ['3'] ] ,\n",
    "[['Franklin'] , ['83'] , ['5'] ] , [['Fulton'] , ['84'] , ['2'] ] , [['Genesee'] , ['84'] ,\n",
    "['5'] ] , [['Greene'] , ['73'] , ['1'] ] , [['Hamilton'] , ['55'] , ['1'] ] , [['Herkimer']\n",
    ", ['88'] , ['0'] ] , [['Jefferson'] , ['67'] , ['1'] ] , [['Kings'] , ['100'] , ['4'] ] ,\n",
    "[['Lewis'] , ['65'] , ['2'] ] , [['Livingston'] , ['61'] , ['1'] ] , [['Madison'] , ['85'] ,\n",
    "['0'] ] , [['Monroe'] , ['73'] , ['4'] ] , [['Montgomery'] , ['59'] , ['2'] ] , [['Nassau']\n",
    ", ['88'] , ['0'] ] , [['NewYork'] , ['78'] , ['1'] ] , [['Niagara'] , ['73'] , ['4'] ] ,\n",
    "[['Oneida'] , ['93'] , ['1'] ] , [['Onondaga'] , ['66'] , ['5'] ] , [['Ontario'] , ['60'] ,\n",
    "['1'] ] , [['Orange'] , ['70'] , ['4'] ] , [['Orleans'] , ['75'] , ['5'] ] , [['Oswego'] ,\n",
    "['61'] , ['2'] ] , [['Otsego'] , ['61'] , ['2'] ] , [['Putnam'] , ['63'] , ['2'] ] ,\n",
    "[['Queens'] , ['99'] , ['5'] ] , [['Rensselaer'] , ['67'] , ['1'] ] , [['Richmond'] , ['67']\n",
    ", ['3'] ] , [['Rockland'] , ['91'] , ['3'] ] , [['St.Lawrence'] , ['69'] , ['2'] ] ,\n",
    "[['Saratoga'] , ['61'] , ['5'] ] , [['Schenectady'] , ['86'] , ['4'] ] , [['Schoharie'] ,\n",
    "['53'] , ['3'] ] , [['Schuyler'] , ['73'] , ['5'] ] , [['Seneca'] , ['53'] , ['2'] ] ,\n",
    "[['Steuben'] , ['77'] , ['1'] ] , [['Suffolk'] , ['71'] , ['1'] ] , [['Sullivan'] , ['78'] ,\n",
    "['0'] ] , [['Tioga'] , ['89'] , ['5'] ] , [['Tompkins'] , ['64'] , ['1'] ] , [['Ulster'] ,\n",
    "['57'] , ['2'] ] , [['Warren'] , ['91'] , ['5'] ] , [['Washington'] , ['66'] , ['0'] ] ,\n",
    "[['Wayne'] , ['68'] , ['5'] ] , [['Westchester'] , ['86'] , ['1'] ] , [['Wyoming'] , ['59']\n",
    ", ['2'] ] , [['Yates'] , ['55'] , ['2'] ]"
   ]
  },
  {
   "cell_type": "code",
   "execution_count": 4,
   "metadata": {},
   "outputs": [],
   "source": [
    "flat_data = [item for item in data]\n",
    "# Convert to DataFrame\n",
    "df = pd.DataFrame(flat_data, columns=['Station_Name', 'Nox_Value', 'Sensor_Tolarance'])"
   ]
  },
  {
   "cell_type": "code",
   "execution_count": 5,
   "metadata": {},
   "outputs": [
    {
     "data": {
      "text/html": [
       "<div>\n",
       "<style scoped>\n",
       "    .dataframe tbody tr th:only-of-type {\n",
       "        vertical-align: middle;\n",
       "    }\n",
       "\n",
       "    .dataframe tbody tr th {\n",
       "        vertical-align: top;\n",
       "    }\n",
       "\n",
       "    .dataframe thead th {\n",
       "        text-align: right;\n",
       "    }\n",
       "</style>\n",
       "<table border=\"1\" class=\"dataframe\">\n",
       "  <thead>\n",
       "    <tr style=\"text-align: right;\">\n",
       "      <th></th>\n",
       "      <th>Station_Name</th>\n",
       "      <th>Nox_Value</th>\n",
       "      <th>Sensor_Tolarance</th>\n",
       "    </tr>\n",
       "  </thead>\n",
       "  <tbody>\n",
       "    <tr>\n",
       "      <th>0</th>\n",
       "      <td>[Albany]</td>\n",
       "      <td>[75]</td>\n",
       "      <td>[0]</td>\n",
       "    </tr>\n",
       "    <tr>\n",
       "      <th>1</th>\n",
       "      <td>[Allegany]</td>\n",
       "      <td>[83]</td>\n",
       "      <td>[2]</td>\n",
       "    </tr>\n",
       "    <tr>\n",
       "      <th>2</th>\n",
       "      <td>[Bronx]</td>\n",
       "      <td>[82]</td>\n",
       "      <td>[3]</td>\n",
       "    </tr>\n",
       "    <tr>\n",
       "      <th>3</th>\n",
       "      <td>[Broome]</td>\n",
       "      <td>[67]</td>\n",
       "      <td>[5]</td>\n",
       "    </tr>\n",
       "    <tr>\n",
       "      <th>4</th>\n",
       "      <td>[Cattaraugus]</td>\n",
       "      <td>[95]</td>\n",
       "      <td>[5]</td>\n",
       "    </tr>\n",
       "    <tr>\n",
       "      <th>5</th>\n",
       "      <td>[Cayuga]</td>\n",
       "      <td>[80]</td>\n",
       "      <td>[4]</td>\n",
       "    </tr>\n",
       "    <tr>\n",
       "      <th>6</th>\n",
       "      <td>[Chautauqua]</td>\n",
       "      <td>[78]</td>\n",
       "      <td>[4]</td>\n",
       "    </tr>\n",
       "    <tr>\n",
       "      <th>7</th>\n",
       "      <td>[Chemung]</td>\n",
       "      <td>[91]</td>\n",
       "      <td>[3]</td>\n",
       "    </tr>\n",
       "  </tbody>\n",
       "</table>\n",
       "</div>"
      ],
      "text/plain": [
       "    Station_Name Nox_Value Sensor_Tolarance\n",
       "0       [Albany]      [75]              [0]\n",
       "1     [Allegany]      [83]              [2]\n",
       "2        [Bronx]      [82]              [3]\n",
       "3       [Broome]      [67]              [5]\n",
       "4  [Cattaraugus]      [95]              [5]\n",
       "5       [Cayuga]      [80]              [4]\n",
       "6   [Chautauqua]      [78]              [4]\n",
       "7      [Chemung]      [91]              [3]"
      ]
     },
     "execution_count": 5,
     "metadata": {},
     "output_type": "execute_result"
    }
   ],
   "source": [
    "df"
   ]
  },
  {
   "cell_type": "code",
   "execution_count": 6,
   "metadata": {},
   "outputs": [
    {
     "name": "stderr",
     "output_type": "stream",
     "text": [
      "/var/folders/fw/9b0xslw51mq4_fznt1ct_2zm0000gn/T/ipykernel_4856/1728655572.py:2: FutureWarning: DataFrame.applymap has been deprecated. Use DataFrame.map instead.\n",
      "  df = df.applymap(lambda x: x[0] if isinstance(x, list) else x)\n"
     ]
    }
   ],
   "source": [
    "# Extract values from lists into separate columns\n",
    "df = df.applymap(lambda x: x[0] if isinstance(x, list) else x)"
   ]
  },
  {
   "cell_type": "code",
   "execution_count": 7,
   "metadata": {},
   "outputs": [
    {
     "data": {
      "text/html": [
       "<div>\n",
       "<style scoped>\n",
       "    .dataframe tbody tr th:only-of-type {\n",
       "        vertical-align: middle;\n",
       "    }\n",
       "\n",
       "    .dataframe tbody tr th {\n",
       "        vertical-align: top;\n",
       "    }\n",
       "\n",
       "    .dataframe thead th {\n",
       "        text-align: right;\n",
       "    }\n",
       "</style>\n",
       "<table border=\"1\" class=\"dataframe\">\n",
       "  <thead>\n",
       "    <tr style=\"text-align: right;\">\n",
       "      <th></th>\n",
       "      <th>Station_Name</th>\n",
       "      <th>Nox_Value</th>\n",
       "      <th>Sensor_Tolarance</th>\n",
       "    </tr>\n",
       "  </thead>\n",
       "  <tbody>\n",
       "    <tr>\n",
       "      <th>0</th>\n",
       "      <td>Albany</td>\n",
       "      <td>75</td>\n",
       "      <td>0</td>\n",
       "    </tr>\n",
       "    <tr>\n",
       "      <th>1</th>\n",
       "      <td>Allegany</td>\n",
       "      <td>83</td>\n",
       "      <td>2</td>\n",
       "    </tr>\n",
       "    <tr>\n",
       "      <th>2</th>\n",
       "      <td>Bronx</td>\n",
       "      <td>82</td>\n",
       "      <td>3</td>\n",
       "    </tr>\n",
       "    <tr>\n",
       "      <th>3</th>\n",
       "      <td>Broome</td>\n",
       "      <td>67</td>\n",
       "      <td>5</td>\n",
       "    </tr>\n",
       "    <tr>\n",
       "      <th>4</th>\n",
       "      <td>Cattaraugus</td>\n",
       "      <td>95</td>\n",
       "      <td>5</td>\n",
       "    </tr>\n",
       "    <tr>\n",
       "      <th>5</th>\n",
       "      <td>Cayuga</td>\n",
       "      <td>80</td>\n",
       "      <td>4</td>\n",
       "    </tr>\n",
       "    <tr>\n",
       "      <th>6</th>\n",
       "      <td>Chautauqua</td>\n",
       "      <td>78</td>\n",
       "      <td>4</td>\n",
       "    </tr>\n",
       "    <tr>\n",
       "      <th>7</th>\n",
       "      <td>Chemung</td>\n",
       "      <td>91</td>\n",
       "      <td>3</td>\n",
       "    </tr>\n",
       "  </tbody>\n",
       "</table>\n",
       "</div>"
      ],
      "text/plain": [
       "  Station_Name Nox_Value Sensor_Tolarance\n",
       "0       Albany        75                0\n",
       "1     Allegany        83                2\n",
       "2        Bronx        82                3\n",
       "3       Broome        67                5\n",
       "4  Cattaraugus        95                5\n",
       "5       Cayuga        80                4\n",
       "6   Chautauqua        78                4\n",
       "7      Chemung        91                3"
      ]
     },
     "execution_count": 7,
     "metadata": {},
     "output_type": "execute_result"
    }
   ],
   "source": [
    "df"
   ]
  },
  {
   "cell_type": "code",
   "execution_count": 8,
   "metadata": {},
   "outputs": [
    {
     "name": "stdout",
     "output_type": "stream",
     "text": [
      "<class 'pandas.core.frame.DataFrame'>\n",
      "RangeIndex: 8 entries, 0 to 7\n",
      "Data columns (total 3 columns):\n",
      " #   Column            Non-Null Count  Dtype \n",
      "---  ------            --------------  ----- \n",
      " 0   Station_Name      8 non-null      object\n",
      " 1   Nox_Value         8 non-null      object\n",
      " 2   Sensor_Tolarance  8 non-null      object\n",
      "dtypes: object(3)\n",
      "memory usage: 324.0+ bytes\n"
     ]
    }
   ],
   "source": [
    "df.info()"
   ]
  },
  {
   "cell_type": "code",
   "execution_count": 9,
   "metadata": {},
   "outputs": [
    {
     "name": "stdout",
     "output_type": "stream",
     "text": [
      "<class 'pandas.core.frame.DataFrame'>\n",
      "RangeIndex: 8 entries, 0 to 7\n",
      "Data columns (total 3 columns):\n",
      " #   Column            Non-Null Count  Dtype \n",
      "---  ------            --------------  ----- \n",
      " 0   Station_Name      8 non-null      object\n",
      " 1   Nox_Value         8 non-null      int64 \n",
      " 2   Sensor_Tolarance  8 non-null      int64 \n",
      "dtypes: int64(2), object(1)\n",
      "memory usage: 324.0+ bytes\n"
     ]
    }
   ],
   "source": [
    "# Convert string values to integers\n",
    "df['Nox_Value'] = df['Nox_Value'].astype(int)\n",
    "df['Sensor_Tolarance'] = df['Sensor_Tolarance'].astype(int)\n",
    "df.info()\n",
    "\n"
   ]
  },
  {
   "cell_type": "code",
   "execution_count": 10,
   "metadata": {},
   "outputs": [
    {
     "data": {
      "text/plain": [
       "8"
      ]
     },
     "execution_count": 10,
     "metadata": {},
     "output_type": "execute_result"
    }
   ],
   "source": [
    "# How many stations are there?\n",
    "df[\"Station_Name\"].nunique()"
   ]
  },
  {
   "cell_type": "code",
   "execution_count": 11,
   "metadata": {},
   "outputs": [
    {
     "data": {
      "text/plain": [
       "95"
      ]
     },
     "execution_count": 11,
     "metadata": {},
     "output_type": "execute_result"
    }
   ],
   "source": [
    "# What was the NOx reading from the 5th station?\n",
    "nox_reading_5th_station = df.loc[4, 'Nox_Value']\n",
    "nox_reading_5th_station"
   ]
  },
  {
   "cell_type": "code",
   "execution_count": 12,
   "metadata": {},
   "outputs": [
    {
     "data": {
      "text/plain": [
       "91"
      ]
     },
     "execution_count": 12,
     "metadata": {},
     "output_type": "execute_result"
    }
   ],
   "source": [
    "# What was the NOx reading from the last station?\n",
    "nox_reading_last_station = df['Nox_Value'].iloc[-1]\n",
    "nox_reading_last_station"
   ]
  },
  {
   "cell_type": "code",
   "execution_count": 13,
   "metadata": {},
   "outputs": [
    {
     "data": {
      "text/plain": [
       "0"
      ]
     },
     "execution_count": 13,
     "metadata": {},
     "output_type": "execute_result"
    }
   ],
   "source": [
    "# What is the total sum of NOx on sites with the station's name beginning with the letter W?\n",
    "# Filter stations with names beginning with 'W'\n",
    "filtered_df = df[df['Station_Name'].apply(lambda x: x[0][0].lower() == 'w')]\n",
    "\n",
    "# Calculate the total sum of NOx on sites with station names beginning with 'W'\n",
    "total_nox_w_stations = filtered_df['Nox_Value'].sum()\n",
    "total_nox_w_stations"
   ]
  },
  {
   "cell_type": "code",
   "execution_count": 14,
   "metadata": {},
   "outputs": [
    {
     "data": {
      "text/plain": [
       "Station_Name\n",
       "Albany         75.0\n",
       "Allegany       83.0\n",
       "Bronx          82.0\n",
       "Broome         67.0\n",
       "Cattaraugus    95.0\n",
       "Cayuga         80.0\n",
       "Chautauqua     78.0\n",
       "Chemung        91.0\n",
       "Name: Nox_Value, dtype: float64"
      ]
     },
     "execution_count": 14,
     "metadata": {},
     "output_type": "execute_result"
    }
   ],
   "source": [
    "# Calculate the adjusted NOx values by considering the maximum error as a percentage?\n",
    "average_nox_reading = df.groupby(\"Station_Name\")['Nox_Value'].mean()\n",
    "average_nox_reading"
   ]
  },
  {
   "cell_type": "code",
   "execution_count": 17,
   "metadata": {},
   "outputs": [],
   "source": [
    "data = ['S3A_SL_2_WST____20230701T003542_20230701T021641_20230702T115546_6059_100_287______MAR_O_NT_003',\n",
    "'S3B_SL_2_WST____20230701T013741_20230701T031840_20230702T121228_6059_081_145______MAR_O_NT_003',\n",
    "'S3A_SL_2_WST____20230701T021641_20230701T035740_20230702T134535_6059_100_288______MAR_O_NT_003',\n",
    "'S3B_SL_2_WST____20230701T031840_20230701T045939_20230702T135808_6059_081_146______MAR_O_NT_003',\n",
    "'S3A_SL_2_WST____20230701T035740_20230701T053839_20230702T152705_6059_100_289______MAR_O_NT_003',\n",
    "'S3B_SL_2_WST____20230701T045939_20230701T064039_20230702T135812_6059_081_147______MAR_O_NT_003',\n",
    "'S3A_SL_2_WST____20230701T053839_20230701T071939_20230702T170939_6059_100_290______MAR_O_NT_003',\n",
    "'S3B_SL_2_WST____20230701T064039_20230701T082138_20230702T170001_6059_081_148______MAR_O_NT_003',\n",
    "'S3A_SL_2_WST____20230701T071939_20230701T090038_20230702T184839_6059_100_291______MAR_O_NT_003',\n",
    "'S3B_SL_2_WST____20230701T082138_20230701T100237_20230702T184618_6059_081_149______MAR_O_NT_003',\n",
    "'S3A_SL_2_WST____20230701T090038_20230701T104137_20230702T191020_6059_100_292______MAR_O_NT_003',\n",
    "'S3B_SL_2_FRP____20230701T092150_20230701T092650_20230701T113427_0299_081_150______MAR_O_NR_002',\n",
    "'S3B_SL_2_AOD____20230701T092152_20230701T092651_20230701T113543_0299_081_150______MAR_O_NR_003',\n",
    "'S3B_SL_1_RBT____20230701T092255_20230701T092555_20230702T054816_0180_081_150_2160_PS2_O_NT_004',\n",
    "'S3B_SL_2_LST____20230701T092255_20230701T092555_20230701T113003_0180_081_150_2160_PS2_O_NR_004',\n",
    "'S3B_SL_2_FRP____20230701T092255_20230701T092555_20230702T055613_0180_081_150_2160_PS2_O_NT_004',\n",
    "'S3B_SL_2_WST____20230701T092255_20230701T092555_20230701T113157_0180_081_150_2160_MAR_O_NR_003',\n",
    "'S3B_SL_2_LST____20230701T092255_20230701T092555_20230702T060749_0180_081_150_2160_PS2_O_NT_004',\n",
    "'S3B_SL_1_RBT____20230701T092255_20230701T092555_20230701T112528_0180_081_150_2160_PS2_O_NR_004',\n",
    "'S3A_SL_2_FRP____20230701T100051_20230701T100551_20230701T121412_0299_100_293______MAR_O_NR_002',\n",
    "'S3A_SL_2_AOD____20230701T100052_20230701T100551_20230701T121522_0299_100_293______MAR_O_NR_003',\n",
    "'S3A_SL_2_FRP____20230701T100155_20230701T100455_20230702T190119_0179_100_293_2160_PS1_O_NT_004',\n",
    "'S3A_SL_1_RBT____20230701T100155_20230701T100455_20230702T185513_0179_100_293_2160_PS1_O_NT_004',\n",
    "'S3A_SL_2_LST____20230701T100155_20230701T100455_20230702T190540_0179_100_293_2160_PS1_O_NT_004',\n",
    "'S3A_SL_2_WST____20230701T100155_20230701T100455_20230701T121337_0179_100_293_2160_MAR_O_NR_003',\n",
    "'S3A_SL_2_LST____20230701T100155_20230701T100455_20230701T121407_0179_100_293_2160_PS1_O_NR_004',\n",
    "'S3A_SL_1_RBT____20230701T100155_20230701T100455_20230701T121102_0179_100_293_2160_PS1_O_NR_004',\n",
    "'S3B_SL_2_WST____20230701T200833_20230701T214932_20230703T064744_6059_081_156______MAR_O_NT_003',\n",
    "'S3B_SL_2_FRP____20230701T204150_20230701T204650_20230701T231301_0299_081_157______MAR_O_NR_002',\n",
    "'S3B_SL_2_AOD____20230701T204152_20230701T204649_20230701T231345_0299_081_157______MAR_O_NR_003']"
   ]
  },
  {
   "cell_type": "code",
   "execution_count": 18,
   "metadata": {},
   "outputs": [],
   "source": [
    "# Define column names based on the file naming convention\n",
    "columns = [\n",
    "    'Mission_ID',\n",
    "    'Data_Source',\n",
    "    'Processing_Level',\n",
    "    'Data_Type_ID',\n",
    "    'Sensing_Start_Time',\n",
    "    'Sensing_Stop_Time',\n",
    "    'Product_Creation_Date',\n",
    "    'Instance_ID',\n",
    "    'Centre',\n",
    "    'Class_ID'\n",
    "]\n",
    "\n",
    "# Create an empty list to store dictionaries\n",
    "data_list = []\n",
    "\n",
    "# Populate the list with dictionaries\n",
    "for item in data:\n",
    "    values = [\n",
    "        item[0:3],  # Mission_ID\n",
    "        item[4:6],  # Data_Source\n",
    "        item[7:8],  # Processing_Level\n",
    "        item[9:15],  # Data_Type_ID\n",
    "        item[16:32],  # Sensing_Start_Time\n",
    "        item[33:49],  # Sensing_Stop_Time\n",
    "        item[50:66],  # Product_Creation_Date\n",
    "        item[67:84],  # Instance_ID\n",
    "        item[85:88],  # Centre\n",
    "        item[89:99]  # Class_ID\n",
    "    ]\n",
    "    data_list.append(dict(zip(columns, values)))\n",
    "\n",
    "# Create DataFrame from the list of dictionaries\n",
    "df = pd.DataFrame(data_list)\n"
   ]
  },
  {
   "cell_type": "code",
   "execution_count": 23,
   "metadata": {},
   "outputs": [
    {
     "data": {
      "text/html": [
       "<div>\n",
       "<style scoped>\n",
       "    .dataframe tbody tr th:only-of-type {\n",
       "        vertical-align: middle;\n",
       "    }\n",
       "\n",
       "    .dataframe tbody tr th {\n",
       "        vertical-align: top;\n",
       "    }\n",
       "\n",
       "    .dataframe thead th {\n",
       "        text-align: right;\n",
       "    }\n",
       "</style>\n",
       "<table border=\"1\" class=\"dataframe\">\n",
       "  <thead>\n",
       "    <tr style=\"text-align: right;\">\n",
       "      <th></th>\n",
       "      <th>Mission_ID</th>\n",
       "      <th>Data_Source</th>\n",
       "      <th>Processing_Level</th>\n",
       "      <th>Data_Type_ID</th>\n",
       "      <th>Sensing_Start_Time</th>\n",
       "      <th>Sensing_Stop_Time</th>\n",
       "      <th>Product_Creation_Date</th>\n",
       "      <th>Instance_ID</th>\n",
       "      <th>Centre</th>\n",
       "      <th>Class_ID</th>\n",
       "    </tr>\n",
       "  </thead>\n",
       "  <tbody>\n",
       "    <tr>\n",
       "      <th>0</th>\n",
       "      <td>S3A</td>\n",
       "      <td>SL</td>\n",
       "      <td>2</td>\n",
       "      <td>WST___</td>\n",
       "      <td>20230701T003542_</td>\n",
       "      <td>0230701T021641_2</td>\n",
       "      <td>230702T115546_60</td>\n",
       "      <td>9_100_287______MA</td>\n",
       "      <td>_O_</td>\n",
       "      <td>T_003</td>\n",
       "    </tr>\n",
       "    <tr>\n",
       "      <th>1</th>\n",
       "      <td>S3B</td>\n",
       "      <td>SL</td>\n",
       "      <td>2</td>\n",
       "      <td>WST___</td>\n",
       "      <td>20230701T013741_</td>\n",
       "      <td>0230701T031840_2</td>\n",
       "      <td>230702T121228_60</td>\n",
       "      <td>9_081_145______MA</td>\n",
       "      <td>_O_</td>\n",
       "      <td>T_003</td>\n",
       "    </tr>\n",
       "    <tr>\n",
       "      <th>2</th>\n",
       "      <td>S3A</td>\n",
       "      <td>SL</td>\n",
       "      <td>2</td>\n",
       "      <td>WST___</td>\n",
       "      <td>20230701T021641_</td>\n",
       "      <td>0230701T035740_2</td>\n",
       "      <td>230702T134535_60</td>\n",
       "      <td>9_100_288______MA</td>\n",
       "      <td>_O_</td>\n",
       "      <td>T_003</td>\n",
       "    </tr>\n",
       "    <tr>\n",
       "      <th>3</th>\n",
       "      <td>S3B</td>\n",
       "      <td>SL</td>\n",
       "      <td>2</td>\n",
       "      <td>WST___</td>\n",
       "      <td>20230701T031840_</td>\n",
       "      <td>0230701T045939_2</td>\n",
       "      <td>230702T135808_60</td>\n",
       "      <td>9_081_146______MA</td>\n",
       "      <td>_O_</td>\n",
       "      <td>T_003</td>\n",
       "    </tr>\n",
       "    <tr>\n",
       "      <th>4</th>\n",
       "      <td>S3A</td>\n",
       "      <td>SL</td>\n",
       "      <td>2</td>\n",
       "      <td>WST___</td>\n",
       "      <td>20230701T035740_</td>\n",
       "      <td>0230701T053839_2</td>\n",
       "      <td>230702T152705_60</td>\n",
       "      <td>9_100_289______MA</td>\n",
       "      <td>_O_</td>\n",
       "      <td>T_003</td>\n",
       "    </tr>\n",
       "  </tbody>\n",
       "</table>\n",
       "</div>"
      ],
      "text/plain": [
       "  Mission_ID Data_Source Processing_Level Data_Type_ID Sensing_Start_Time  \\\n",
       "0        S3A          SL                2       WST___   20230701T003542_   \n",
       "1        S3B          SL                2       WST___   20230701T013741_   \n",
       "2        S3A          SL                2       WST___   20230701T021641_   \n",
       "3        S3B          SL                2       WST___   20230701T031840_   \n",
       "4        S3A          SL                2       WST___   20230701T035740_   \n",
       "\n",
       "  Sensing_Stop_Time Product_Creation_Date        Instance_ID Centre Class_ID  \n",
       "0  0230701T021641_2      230702T115546_60  9_100_287______MA    _O_    T_003  \n",
       "1  0230701T031840_2      230702T121228_60  9_081_145______MA    _O_    T_003  \n",
       "2  0230701T035740_2      230702T134535_60  9_100_288______MA    _O_    T_003  \n",
       "3  0230701T045939_2      230702T135808_60  9_081_146______MA    _O_    T_003  \n",
       "4  0230701T053839_2      230702T152705_60  9_100_289______MA    _O_    T_003  "
      ]
     },
     "execution_count": 23,
     "metadata": {},
     "output_type": "execute_result"
    }
   ],
   "source": [
    "df.head()"
   ]
  },
  {
   "cell_type": "code",
   "execution_count": 27,
   "metadata": {},
   "outputs": [
    {
     "data": {
      "text/html": [
       "<div>\n",
       "<style scoped>\n",
       "    .dataframe tbody tr th:only-of-type {\n",
       "        vertical-align: middle;\n",
       "    }\n",
       "\n",
       "    .dataframe tbody tr th {\n",
       "        vertical-align: top;\n",
       "    }\n",
       "\n",
       "    .dataframe thead th {\n",
       "        text-align: right;\n",
       "    }\n",
       "</style>\n",
       "<table border=\"1\" class=\"dataframe\">\n",
       "  <thead>\n",
       "    <tr style=\"text-align: right;\">\n",
       "      <th></th>\n",
       "      <th>Mission_ID</th>\n",
       "      <th>Data_Source</th>\n",
       "      <th>Processing_Level</th>\n",
       "      <th>Data_Type_ID</th>\n",
       "      <th>Sensing_Start_Time</th>\n",
       "      <th>Sensing_Stop_Time</th>\n",
       "      <th>Product_Creation_Date</th>\n",
       "      <th>Instance_ID</th>\n",
       "      <th>Centre</th>\n",
       "      <th>Class_ID</th>\n",
       "    </tr>\n",
       "  </thead>\n",
       "  <tbody>\n",
       "    <tr>\n",
       "      <th>0</th>\n",
       "      <td>S3A</td>\n",
       "      <td>SL</td>\n",
       "      <td>2</td>\n",
       "      <td>WST</td>\n",
       "      <td>20230701T003542_</td>\n",
       "      <td>0230701T021641_2</td>\n",
       "      <td>230702T115546_60</td>\n",
       "      <td>9_100_287______MA</td>\n",
       "      <td>O</td>\n",
       "      <td>T_003</td>\n",
       "    </tr>\n",
       "    <tr>\n",
       "      <th>1</th>\n",
       "      <td>S3B</td>\n",
       "      <td>SL</td>\n",
       "      <td>2</td>\n",
       "      <td>WST</td>\n",
       "      <td>20230701T013741_</td>\n",
       "      <td>0230701T031840_2</td>\n",
       "      <td>230702T121228_60</td>\n",
       "      <td>9_081_145______MA</td>\n",
       "      <td>O</td>\n",
       "      <td>T_003</td>\n",
       "    </tr>\n",
       "    <tr>\n",
       "      <th>2</th>\n",
       "      <td>S3A</td>\n",
       "      <td>SL</td>\n",
       "      <td>2</td>\n",
       "      <td>WST</td>\n",
       "      <td>20230701T021641_</td>\n",
       "      <td>0230701T035740_2</td>\n",
       "      <td>230702T134535_60</td>\n",
       "      <td>9_100_288______MA</td>\n",
       "      <td>O</td>\n",
       "      <td>T_003</td>\n",
       "    </tr>\n",
       "    <tr>\n",
       "      <th>3</th>\n",
       "      <td>S3B</td>\n",
       "      <td>SL</td>\n",
       "      <td>2</td>\n",
       "      <td>WST</td>\n",
       "      <td>20230701T031840_</td>\n",
       "      <td>0230701T045939_2</td>\n",
       "      <td>230702T135808_60</td>\n",
       "      <td>9_081_146______MA</td>\n",
       "      <td>O</td>\n",
       "      <td>T_003</td>\n",
       "    </tr>\n",
       "    <tr>\n",
       "      <th>4</th>\n",
       "      <td>S3A</td>\n",
       "      <td>SL</td>\n",
       "      <td>2</td>\n",
       "      <td>WST</td>\n",
       "      <td>20230701T035740_</td>\n",
       "      <td>0230701T053839_2</td>\n",
       "      <td>230702T152705_60</td>\n",
       "      <td>9_100_289______MA</td>\n",
       "      <td>O</td>\n",
       "      <td>T_003</td>\n",
       "    </tr>\n",
       "  </tbody>\n",
       "</table>\n",
       "</div>"
      ],
      "text/plain": [
       "  Mission_ID Data_Source Processing_Level Data_Type_ID Sensing_Start_Time  \\\n",
       "0        S3A          SL                2          WST   20230701T003542_   \n",
       "1        S3B          SL                2          WST   20230701T013741_   \n",
       "2        S3A          SL                2          WST   20230701T021641_   \n",
       "3        S3B          SL                2          WST   20230701T031840_   \n",
       "4        S3A          SL                2          WST   20230701T035740_   \n",
       "\n",
       "  Sensing_Stop_Time Product_Creation_Date        Instance_ID Centre Class_ID  \n",
       "0  0230701T021641_2      230702T115546_60  9_100_287______MA      O    T_003  \n",
       "1  0230701T031840_2      230702T121228_60  9_081_145______MA      O    T_003  \n",
       "2  0230701T035740_2      230702T134535_60  9_100_288______MA      O    T_003  \n",
       "3  0230701T045939_2      230702T135808_60  9_081_146______MA      O    T_003  \n",
       "4  0230701T053839_2      230702T152705_60  9_100_289______MA      O    T_003  "
      ]
     },
     "execution_count": 27,
     "metadata": {},
     "output_type": "execute_result"
    }
   ],
   "source": [
    "df[\"Data_Type_ID\"] = df[\"Data_Type_ID\"].str.replace('___', '')\n",
    "df[\"Centre\"] = df[\"Centre\"].str.replace('_', '')\n",
    "df.head()"
   ]
  },
  {
   "cell_type": "code",
   "execution_count": 28,
   "metadata": {},
   "outputs": [
    {
     "name": "stdout",
     "output_type": "stream",
     "text": [
      "<class 'pandas.core.frame.DataFrame'>\n",
      "RangeIndex: 30 entries, 0 to 29\n",
      "Data columns (total 10 columns):\n",
      " #   Column                 Non-Null Count  Dtype \n",
      "---  ------                 --------------  ----- \n",
      " 0   Mission_ID             30 non-null     object\n",
      " 1   Data_Source            30 non-null     object\n",
      " 2   Processing_Level       30 non-null     object\n",
      " 3   Data_Type_ID           30 non-null     object\n",
      " 4   Sensing_Start_Time     30 non-null     object\n",
      " 5   Sensing_Stop_Time      30 non-null     object\n",
      " 6   Product_Creation_Date  30 non-null     object\n",
      " 7   Instance_ID            30 non-null     object\n",
      " 8   Centre                 30 non-null     object\n",
      " 9   Class_ID               30 non-null     object\n",
      "dtypes: object(10)\n",
      "memory usage: 2.5+ KB\n"
     ]
    }
   ],
   "source": [
    "df.info()"
   ]
  },
  {
   "cell_type": "code",
   "execution_count": null,
   "metadata": {},
   "outputs": [],
   "source": []
  }
 ],
 "metadata": {
  "kernelspec": {
   "display_name": "Python 3",
   "language": "python",
   "name": "python3"
  },
  "language_info": {
   "codemirror_mode": {
    "name": "ipython",
    "version": 3
   },
   "file_extension": ".py",
   "mimetype": "text/x-python",
   "name": "python",
   "nbconvert_exporter": "python",
   "pygments_lexer": "ipython3",
   "version": "3.11.7"
  }
 },
 "nbformat": 4,
 "nbformat_minor": 2
}
