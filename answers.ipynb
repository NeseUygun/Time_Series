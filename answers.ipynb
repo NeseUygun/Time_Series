{
 "cells": [
  {
   "cell_type": "code",
   "execution_count": 1,
   "metadata": {},
   "outputs": [],
   "source": [
    "import pandas as pd\n",
    "import numpy as np\n",
    "import matplotlib.pyplot as plt"
   ]
  },
  {
   "cell_type": "code",
   "execution_count": 44,
   "metadata": {},
   "outputs": [
    {
     "data": {
      "text/plain": [
       "([['Wayne'], ['68'], ['5']],\n",
       " [['Westchester'], ['86'], ['1']],\n",
       " [['Wyoming'], ['59'], ['2']],\n",
       " [['Yates'], ['55'], ['2']])"
      ]
     },
     "execution_count": 44,
     "metadata": {},
     "output_type": "execute_result"
    }
   ],
   "source": [
    "data = [['Albany'] , [75] , [0] ] , [['Allegany'] , ['83'] , ['2'] ] , [['Bronx'] , ['82'] ,\n",
    "['3'] ] , [['Broome'] , ['67'] , ['5'] ] , [['Cattaraugus'] , ['95'] , ['5'] ] , [['Cayuga']\n",
    ", ['80'] , ['4'] ] , [['Chautauqua'] , ['78'] , ['4'] ] , [['Chemung'] , ['91'] , ['3'] ] ,\n",
    "[['Chenango'] , ['92'] , ['0'] ] , [['Clinton'] , ['58'] , ['1'] ] , [['Columbia'] , ['52']\n",
    ", ['1'] ] , [['Cortland'] , ['59'] , ['3'] ] , [['Delaware'] , ['70'] , ['0'] ] , [['Dutchess']\n",
    ", ['98'] , ['0'] ] , [['Erie'] , ['54'] , ['5'] ] , [['Essex'] , ['83'] , ['3'] ] ,\n",
    "[['Franklin'] , ['83'] , ['5'] ] , [['Fulton'] , ['84'] , ['2'] ] , [['Genesee'] , ['84'] ,\n",
    "['5'] ] , [['Greene'] , ['73'] , ['1'] ] , [['Hamilton'] , ['55'] , ['1'] ] , [['Herkimer']\n",
    ", ['88'] , ['0'] ] , [['Jefferson'] , ['67'] , ['1'] ] , [['Kings'] , ['100'] , ['4'] ] ,\n",
    "[['Lewis'] , ['65'] , ['2'] ] , [['Livingston'] , ['61'] , ['1'] ] , [['Madison'] , ['85'] ,\n",
    "['0'] ] , [['Monroe'] , ['73'] , ['4'] ] , [['Montgomery'] , ['59'] , ['2'] ] , [['Nassau']\n",
    ", ['88'] , ['0'] ] , [['NewYork'] , ['78'] , ['1'] ] , [['Niagara'] , ['73'] , ['4'] ] ,\n",
    "[['Oneida'] , ['93'] , ['1'] ] , [['Onondaga'] , ['66'] , ['5'] ] , [['Ontario'] , ['60'] ,\n",
    "['1'] ] , [['Orange'] , ['70'] , ['4'] ] , [['Orleans'] , ['75'] , ['5'] ] , [['Oswego'] ,\n",
    "['61'] , ['2'] ] , [['Otsego'] , ['61'] , ['2'] ] , [['Putnam'] , ['63'] , ['2'] ] ,\n",
    "[['Queens'] , ['99'] , ['5'] ] , [['Rensselaer'] , ['67'] , ['1'] ] , [['Richmond'] , ['67']\n",
    ", ['3'] ] , [['Rockland'] , ['91'] , ['3'] ] , [['St.Lawrence'] , ['69'] , ['2'] ] ,\n",
    "[['Saratoga'] , ['61'] , ['5'] ] , [['Schenectady'] , ['86'] , ['4'] ] , [['Schoharie'] ,\n",
    "['53'] , ['3'] ] , [['Schuyler'] , ['73'] , ['5'] ] , [['Seneca'] , ['53'] , ['2'] ] ,\n",
    "[['Steuben'] , ['77'] , ['1'] ] , [['Suffolk'] , ['71'] , ['1'] ] , [['Sullivan'] , ['78'] ,\n",
    "['0'] ] , [['Tioga'] , ['89'] , ['5'] ] , [['Tompkins'] , ['64'] , ['1'] ] , [['Ulster'] ,\n",
    "['57'] , ['2'] ] , [['Warren'] , ['91'] , ['5'] ] , [['Washington'] , ['66'] , ['0'] ] ,\n",
    "[['Wayne'] , ['68'] , ['5'] ] , [['Westchester'] , ['86'] , ['1'] ] , [['Wyoming'] , ['59']\n",
    ", ['2'] ] , [['Yates'] , ['55'] , ['2'] ]"
   ]
  },
  {
   "cell_type": "code",
   "execution_count": 45,
   "metadata": {},
   "outputs": [],
   "source": [
    "flat_data = [item for item in data]\n",
    "# Convert to DataFrame\n",
    "df = pd.DataFrame(flat_data, columns=['Station_Name', 'Nox_Value', 'Sensor_Tolarance'])"
   ]
  },
  {
   "cell_type": "code",
   "execution_count": 46,
   "metadata": {},
   "outputs": [
    {
     "data": {
      "text/html": [
       "<div>\n",
       "<style scoped>\n",
       "    .dataframe tbody tr th:only-of-type {\n",
       "        vertical-align: middle;\n",
       "    }\n",
       "\n",
       "    .dataframe tbody tr th {\n",
       "        vertical-align: top;\n",
       "    }\n",
       "\n",
       "    .dataframe thead th {\n",
       "        text-align: right;\n",
       "    }\n",
       "</style>\n",
       "<table border=\"1\" class=\"dataframe\">\n",
       "  <thead>\n",
       "    <tr style=\"text-align: right;\">\n",
       "      <th></th>\n",
       "      <th>Station_Name</th>\n",
       "      <th>Nox_Value</th>\n",
       "      <th>Sensor_Tolarance</th>\n",
       "    </tr>\n",
       "  </thead>\n",
       "  <tbody>\n",
       "    <tr>\n",
       "      <th>0</th>\n",
       "      <td>[Albany]</td>\n",
       "      <td>[75]</td>\n",
       "      <td>[0]</td>\n",
       "    </tr>\n",
       "    <tr>\n",
       "      <th>1</th>\n",
       "      <td>[Allegany]</td>\n",
       "      <td>[83]</td>\n",
       "      <td>[2]</td>\n",
       "    </tr>\n",
       "    <tr>\n",
       "      <th>2</th>\n",
       "      <td>[Bronx]</td>\n",
       "      <td>[82]</td>\n",
       "      <td>[3]</td>\n",
       "    </tr>\n",
       "    <tr>\n",
       "      <th>3</th>\n",
       "      <td>[Broome]</td>\n",
       "      <td>[67]</td>\n",
       "      <td>[5]</td>\n",
       "    </tr>\n",
       "    <tr>\n",
       "      <th>4</th>\n",
       "      <td>[Cattaraugus]</td>\n",
       "      <td>[95]</td>\n",
       "      <td>[5]</td>\n",
       "    </tr>\n",
       "    <tr>\n",
       "      <th>5</th>\n",
       "      <td>[Cayuga]</td>\n",
       "      <td>[80]</td>\n",
       "      <td>[4]</td>\n",
       "    </tr>\n",
       "    <tr>\n",
       "      <th>6</th>\n",
       "      <td>[Chautauqua]</td>\n",
       "      <td>[78]</td>\n",
       "      <td>[4]</td>\n",
       "    </tr>\n",
       "    <tr>\n",
       "      <th>7</th>\n",
       "      <td>[Chemung]</td>\n",
       "      <td>[91]</td>\n",
       "      <td>[3]</td>\n",
       "    </tr>\n",
       "  </tbody>\n",
       "</table>\n",
       "</div>"
      ],
      "text/plain": [
       "    Station_Name Nox_Value Sensor_Tolarance\n",
       "0       [Albany]      [75]              [0]\n",
       "1     [Allegany]      [83]              [2]\n",
       "2        [Bronx]      [82]              [3]\n",
       "3       [Broome]      [67]              [5]\n",
       "4  [Cattaraugus]      [95]              [5]\n",
       "5       [Cayuga]      [80]              [4]\n",
       "6   [Chautauqua]      [78]              [4]\n",
       "7      [Chemung]      [91]              [3]"
      ]
     },
     "execution_count": 46,
     "metadata": {},
     "output_type": "execute_result"
    }
   ],
   "source": [
    "df"
   ]
  },
  {
   "cell_type": "code",
   "execution_count": 47,
   "metadata": {},
   "outputs": [
    {
     "name": "stderr",
     "output_type": "stream",
     "text": [
      "/var/folders/fw/9b0xslw51mq4_fznt1ct_2zm0000gn/T/ipykernel_3891/1728655572.py:2: FutureWarning: DataFrame.applymap has been deprecated. Use DataFrame.map instead.\n",
      "  df = df.applymap(lambda x: x[0] if isinstance(x, list) else x)\n"
     ]
    }
   ],
   "source": [
    "# Extract values from lists into separate columns\n",
    "df = df.applymap(lambda x: x[0] if isinstance(x, list) else x)"
   ]
  },
  {
   "cell_type": "code",
   "execution_count": 48,
   "metadata": {},
   "outputs": [
    {
     "data": {
      "text/html": [
       "<div>\n",
       "<style scoped>\n",
       "    .dataframe tbody tr th:only-of-type {\n",
       "        vertical-align: middle;\n",
       "    }\n",
       "\n",
       "    .dataframe tbody tr th {\n",
       "        vertical-align: top;\n",
       "    }\n",
       "\n",
       "    .dataframe thead th {\n",
       "        text-align: right;\n",
       "    }\n",
       "</style>\n",
       "<table border=\"1\" class=\"dataframe\">\n",
       "  <thead>\n",
       "    <tr style=\"text-align: right;\">\n",
       "      <th></th>\n",
       "      <th>Station_Name</th>\n",
       "      <th>Nox_Value</th>\n",
       "      <th>Sensor_Tolarance</th>\n",
       "    </tr>\n",
       "  </thead>\n",
       "  <tbody>\n",
       "    <tr>\n",
       "      <th>0</th>\n",
       "      <td>Albany</td>\n",
       "      <td>75</td>\n",
       "      <td>0</td>\n",
       "    </tr>\n",
       "    <tr>\n",
       "      <th>1</th>\n",
       "      <td>Allegany</td>\n",
       "      <td>83</td>\n",
       "      <td>2</td>\n",
       "    </tr>\n",
       "    <tr>\n",
       "      <th>2</th>\n",
       "      <td>Bronx</td>\n",
       "      <td>82</td>\n",
       "      <td>3</td>\n",
       "    </tr>\n",
       "    <tr>\n",
       "      <th>3</th>\n",
       "      <td>Broome</td>\n",
       "      <td>67</td>\n",
       "      <td>5</td>\n",
       "    </tr>\n",
       "    <tr>\n",
       "      <th>4</th>\n",
       "      <td>Cattaraugus</td>\n",
       "      <td>95</td>\n",
       "      <td>5</td>\n",
       "    </tr>\n",
       "    <tr>\n",
       "      <th>5</th>\n",
       "      <td>Cayuga</td>\n",
       "      <td>80</td>\n",
       "      <td>4</td>\n",
       "    </tr>\n",
       "    <tr>\n",
       "      <th>6</th>\n",
       "      <td>Chautauqua</td>\n",
       "      <td>78</td>\n",
       "      <td>4</td>\n",
       "    </tr>\n",
       "    <tr>\n",
       "      <th>7</th>\n",
       "      <td>Chemung</td>\n",
       "      <td>91</td>\n",
       "      <td>3</td>\n",
       "    </tr>\n",
       "  </tbody>\n",
       "</table>\n",
       "</div>"
      ],
      "text/plain": [
       "  Station_Name Nox_Value Sensor_Tolarance\n",
       "0       Albany        75                0\n",
       "1     Allegany        83                2\n",
       "2        Bronx        82                3\n",
       "3       Broome        67                5\n",
       "4  Cattaraugus        95                5\n",
       "5       Cayuga        80                4\n",
       "6   Chautauqua        78                4\n",
       "7      Chemung        91                3"
      ]
     },
     "execution_count": 48,
     "metadata": {},
     "output_type": "execute_result"
    }
   ],
   "source": [
    "df"
   ]
  },
  {
   "cell_type": "code",
   "execution_count": 49,
   "metadata": {},
   "outputs": [
    {
     "name": "stdout",
     "output_type": "stream",
     "text": [
      "<class 'pandas.core.frame.DataFrame'>\n",
      "RangeIndex: 8 entries, 0 to 7\n",
      "Data columns (total 3 columns):\n",
      " #   Column            Non-Null Count  Dtype \n",
      "---  ------            --------------  ----- \n",
      " 0   Station_Name      8 non-null      object\n",
      " 1   Nox_Value         8 non-null      object\n",
      " 2   Sensor_Tolarance  8 non-null      object\n",
      "dtypes: object(3)\n",
      "memory usage: 324.0+ bytes\n"
     ]
    }
   ],
   "source": [
    "df.info()"
   ]
  },
  {
   "cell_type": "code",
   "execution_count": 54,
   "metadata": {},
   "outputs": [
    {
     "name": "stdout",
     "output_type": "stream",
     "text": [
      "<class 'pandas.core.frame.DataFrame'>\n",
      "RangeIndex: 8 entries, 0 to 7\n",
      "Data columns (total 3 columns):\n",
      " #   Column            Non-Null Count  Dtype \n",
      "---  ------            --------------  ----- \n",
      " 0   Station_Name      8 non-null      object\n",
      " 1   Nox_Value         8 non-null      int64 \n",
      " 2   Sensor_Tolarance  8 non-null      int64 \n",
      "dtypes: int64(2), object(1)\n",
      "memory usage: 324.0+ bytes\n"
     ]
    }
   ],
   "source": [
    "# Convert string values to integers\n",
    "df['Nox_Value'] = df['Nox_Value'].astype(int)\n",
    "df['Sensor_Tolarance'] = df['Sensor_Tolarance'].astype(int)\n",
    "df.info()\n",
    "\n"
   ]
  },
  {
   "cell_type": "code",
   "execution_count": 55,
   "metadata": {},
   "outputs": [
    {
     "data": {
      "text/plain": [
       "8"
      ]
     },
     "execution_count": 55,
     "metadata": {},
     "output_type": "execute_result"
    }
   ],
   "source": [
    "# How many stations are there?\n",
    "df[\"Station_Name\"].nunique()"
   ]
  },
  {
   "cell_type": "code",
   "execution_count": 56,
   "metadata": {},
   "outputs": [
    {
     "data": {
      "text/plain": [
       "95"
      ]
     },
     "execution_count": 56,
     "metadata": {},
     "output_type": "execute_result"
    }
   ],
   "source": [
    "# What was the NOx reading from the 5th station?\n",
    "nox_reading_5th_station = df.loc[4, 'Nox_Value']\n",
    "nox_reading_5th_station"
   ]
  },
  {
   "cell_type": "code",
   "execution_count": 57,
   "metadata": {},
   "outputs": [
    {
     "data": {
      "text/plain": [
       "91"
      ]
     },
     "execution_count": 57,
     "metadata": {},
     "output_type": "execute_result"
    }
   ],
   "source": [
    "# What was the NOx reading from the last station?\n",
    "nox_reading_last_station = df['Nox_Value'].iloc[-1]\n",
    "nox_reading_last_station"
   ]
  },
  {
   "cell_type": "code",
   "execution_count": 58,
   "metadata": {},
   "outputs": [
    {
     "data": {
      "text/plain": [
       "0"
      ]
     },
     "execution_count": 58,
     "metadata": {},
     "output_type": "execute_result"
    }
   ],
   "source": [
    "# What is the total sum of NOx on sites with the station's name beginning with the letter W?\n",
    "# Filter stations with names beginning with 'W'\n",
    "filtered_df = df[df['Station_Name'].apply(lambda x: x[0][0].lower() == 'w')]\n",
    "\n",
    "# Calculate the total sum of NOx on sites with station names beginning with 'W'\n",
    "total_nox_w_stations = filtered_df['Nox_Value'].sum()\n",
    "total_nox_w_stations"
   ]
  },
  {
   "cell_type": "code",
   "execution_count": 64,
   "metadata": {},
   "outputs": [
    {
     "data": {
      "text/plain": [
       "Station_Name\n",
       "Albany         75.0\n",
       "Allegany       83.0\n",
       "Bronx          82.0\n",
       "Broome         67.0\n",
       "Cattaraugus    95.0\n",
       "Cayuga         80.0\n",
       "Chautauqua     78.0\n",
       "Chemung        91.0\n",
       "Name: Nox_Value, dtype: float64"
      ]
     },
     "execution_count": 64,
     "metadata": {},
     "output_type": "execute_result"
    }
   ],
   "source": [
    "# Calculate the adjusted NOx values by considering the maximum error as a percentage?\n",
    "average_nox_reading = df.groupby(\"Station_Name\")['Nox_Value'].mean()\n",
    "average_nox_reading"
   ]
  },
  {
   "cell_type": "code",
   "execution_count": null,
   "metadata": {},
   "outputs": [],
   "source": []
  }
 ],
 "metadata": {
  "kernelspec": {
   "display_name": "Python 3",
   "language": "python",
   "name": "python3"
  },
  "language_info": {
   "codemirror_mode": {
    "name": "ipython",
    "version": 3
   },
   "file_extension": ".py",
   "mimetype": "text/x-python",
   "name": "python",
   "nbconvert_exporter": "python",
   "pygments_lexer": "ipython3",
   "version": "3.11.7"
  }
 },
 "nbformat": 4,
 "nbformat_minor": 2
}
